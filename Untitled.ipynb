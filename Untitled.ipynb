{
 "cells": [
  {
   "cell_type": "code",
   "execution_count": 7,
   "metadata": {
    "collapsed": true
   },
   "outputs": [],
   "source": [
    "## writting the function \n",
    "def main():\n",
    "    print(\"Hello world\")\n",
    "    print(\"hello\")"
   ]
  },
  {
   "cell_type": "code",
   "execution_count": 8,
   "metadata": {},
   "outputs": [
    {
     "name": "stdout",
     "output_type": "stream",
     "text": [
      "Hello world\n",
      "hello\n"
     ]
    }
   ],
   "source": [
    "main()"
   ]
  },
  {
   "cell_type": "code",
   "execution_count": 59,
   "metadata": {
    "collapsed": true
   },
   "outputs": [],
   "source": [
    "a,b = 2,5\n",
    "c = a+b\n",
    "def main():\n",
    "    print(c)"
   ]
  },
  {
   "cell_type": "code",
   "execution_count": 61,
   "metadata": {},
   "outputs": [
    {
     "name": "stdout",
     "output_type": "stream",
     "text": [
      "7\n"
     ]
    }
   ],
   "source": [
    "main()"
   ]
  },
  {
   "cell_type": "markdown",
   "metadata": {},
   "source": []
  },
  {
   "cell_type": "code",
   "execution_count": 63,
   "metadata": {
    "collapsed": true
   },
   "outputs": [],
   "source": [
    "def main():\n",
    "    print(\"Hello world\")\n",
    "    if __name__ ==\"__main__\":\n",
    "        main()\n",
    "        print(\"sairam\")"
   ]
  },
  {
   "cell_type": "code",
   "execution_count": 65,
   "metadata": {},
   "outputs": [
    {
     "name": "stdout",
     "output_type": "stream",
     "text": [
      "Hello World!\n"
     ]
    }
   ],
   "source": [
    "main()"
   ]
  },
  {
   "cell_type": "code",
   "execution_count": 64,
   "metadata": {},
   "outputs": [
    {
     "name": "stdout",
     "output_type": "stream",
     "text": [
      "Hello World!\n",
      "Guru99\n"
     ]
    }
   ],
   "source": [
    "def main():\n",
    "  print (\"Hello World!\")\n",
    "  \n",
    "if __name__== \"__main__\":\n",
    "  main()\n",
    "\n",
    "print (\"Guru99\")"
   ]
  },
  {
   "cell_type": "code",
   "execution_count": 78,
   "metadata": {},
   "outputs": [
    {
     "name": "stdout",
     "output_type": "stream",
     "text": [
      "7\n",
      "100\n",
      "101\n",
      "100\n"
     ]
    }
   ],
   "source": [
    "## variable declare \n",
    "a = 7 \n",
    "print(a)\n",
    "a = 100\n",
    "print(a)\n",
    "a += 1\n",
    "print(a)\n",
    "a -=1\n",
    "print(a)"
   ]
  },
  {
   "cell_type": "code",
   "execution_count": 79,
   "metadata": {},
   "outputs": [
    {
     "name": "stdout",
     "output_type": "stream",
     "text": [
      "7\n",
      "Sairam Reddy\n"
     ]
    }
   ],
   "source": [
    "## declaring the variable \n",
    "SR = 7\n",
    "print(SR)\n",
    "## re declaring the varibales\n",
    "SR = 'Sairam Reddy'\n",
    "print(SR)"
   ]
  },
  {
   "cell_type": "code",
   "execution_count": 89,
   "metadata": {},
   "outputs": [
    {
     "name": "stdout",
     "output_type": "stream",
     "text": [
      "hello99\n"
     ]
    }
   ],
   "source": [
    "## concat \n",
    "a = 'hello'\n",
    "b = 99\n",
    "print(a + str(b))"
   ]
  },
  {
   "cell_type": "raw",
   "metadata": {},
   "source": []
  },
  {
   "cell_type": "code",
   "execution_count": 96,
   "metadata": {},
   "outputs": [
    {
     "name": "stdout",
     "output_type": "stream",
     "text": [
      "101\n",
      "I am learnig python\n",
      "101\n"
     ]
    }
   ],
   "source": [
    "## declaring the variable \n",
    "f = 101\n",
    "print(f)\n",
    "## global  vs local variable in function \n",
    "def somefunc():\n",
    "    f = 'I am learnig python'\n",
    "    print(f)\n",
    "    \n",
    "somefunc()\n",
    "print(f)"
   ]
  },
  {
   "cell_type": "code",
   "execution_count": 104,
   "metadata": {},
   "outputs": [
    {
     "name": "stdout",
     "output_type": "stream",
     "text": [
      "101\n",
      "101\n"
     ]
    }
   ],
   "source": [
    "## deleting the variable\n",
    "def somefunc():\n",
    "    print(f)\n",
    "somefunc()\n",
    "print(f)"
   ]
  },
  {
   "cell_type": "code",
   "execution_count": 110,
   "metadata": {},
   "outputs": [
    {
     "name": "stdout",
     "output_type": "stream",
     "text": [
      "<function f at 0x00000218672FE7B8>\n"
     ]
    }
   ],
   "source": [
    "f = 11\n",
    "def f():\n",
    "    print(f)\n",
    "f()"
   ]
  },
  {
   "cell_type": "code",
   "execution_count": 127,
   "metadata": {},
   "outputs": [
    {
     "name": "stdout",
     "output_type": "stream",
     "text": [
      "Hello\n",
      "HelloGURU\n",
      "True\n",
      "True\n",
      "Hello world 77\n",
      "Hello worldHello world\n"
     ]
    }
   ],
   "source": [
    "## concatination \n",
    "x = \"Hello world\"\n",
    "y = 77\n",
    "print(x[:5])\n",
    "print(x[0:5] + \"GURU\")\n",
    "print(\"l\" in x)\n",
    "print(\"z\" not in x)\n",
    "print('%s %d' % (x, y))\n",
    "print(x*2)ol"
   ]
  },
  {
   "cell_type": "code",
   "execution_count": 129,
   "metadata": {},
   "outputs": [
    {
     "name": "stdout",
     "output_type": "stream",
     "text": [
      "I love cricket\n"
     ]
    }
   ],
   "source": [
    "oldstring = 'I like cricket'\n",
    "newstring = oldstring.replace('like', 'love')\n",
    "print(newstring)"
   ]
  },
  {
   "cell_type": "code",
   "execution_count": 145,
   "metadata": {},
   "outputs": [
    {
     "name": "stdout",
     "output_type": "stream",
     "text": [
      "I LIKE CRICKET\n",
      "i love cricket\n",
      "I like cricket\n",
      "<reversed object at 0x00000218676CC3C8>\n",
      "['I like cricketI love cricket']\n"
     ]
    }
   ],
   "source": [
    "print(oldstring.upper())\n",
    "print(newstring.lower())\n",
    "print(oldstring.capitalize())\n",
    "join = oldstring + newstring\n",
    "join\n",
    "print(reversed(join))\n",
    "print(join.split('  '))"
   ]
  },
  {
   "cell_type": "code",
   "execution_count": 150,
   "metadata": {},
   "outputs": [
    {
     "name": "stdout",
     "output_type": "stream",
     "text": [
      "['', ' like cricket', ' love cricket']\n"
     ]
    }
   ],
   "source": [
    "print(join.split('I'))"
   ]
  },
  {
   "cell_type": "code",
   "execution_count": 155,
   "metadata": {},
   "outputs": [
    {
     "data": {
      "text/plain": [
       "'jan'"
      ]
     },
     "execution_count": 155,
     "metadata": {},
     "output_type": "execute_result"
    }
   ],
   "source": [
    "tup = ('jan','feb', 'july')\n",
    "tup[0]"
   ]
  },
  {
   "cell_type": "code",
   "execution_count": 167,
   "metadata": {
    "collapsed": true
   },
   "outputs": [],
   "source": [
    "tup1 = ();\n",
    "tup1\n",
    "append = 10"
   ]
  },
  {
   "cell_type": "code",
   "execution_count": 174,
   "metadata": {},
   "outputs": [
    {
     "name": "stdout",
     "output_type": "stream",
     "text": [
      "('Guru', 20, 'Eduction')\n",
      "20\n",
      "Guru\n",
      "Eduction\n",
      "20\n"
     ]
    }
   ],
   "source": [
    "## packing and unpacking \n",
    "x = (\"Guru\",20,\"Eduction\") ## tuple packed\n",
    "(company, emp, salary) = x ## tuple unpacked\n",
    "print(x)\n",
    "print(x[1])\n",
    "print(company)\n",
    "print(salary)\n",
    "print(emp)"
   ]
  },
  {
   "cell_type": "code",
   "execution_count": 179,
   "metadata": {},
   "outputs": [
    {
     "name": "stdout",
     "output_type": "stream",
     "text": [
      "b is bigger\n"
     ]
    }
   ],
   "source": [
    "## comparing \n",
    "a = (5,6)\n",
    "b = (7,6)\n",
    "if (a>b):print(\"a is bigger\")\n",
    "else:print(\"b is bigger\")"
   ]
  },
  {
   "cell_type": "code",
   "execution_count": 206,
   "metadata": {},
   "outputs": [
    {
     "name": "stdout",
     "output_type": "stream",
     "text": [
      "[('x', 100), ('y', 200)]\n"
     ]
    }
   ],
   "source": [
    "a = {'x':100,'y':200}\n",
    "b = list(a.items())\n",
    "print(b)"
   ]
  },
  {
   "cell_type": "code",
   "execution_count": 214,
   "metadata": {},
   "outputs": [
    {
     "data": {
      "text/plain": [
       "('x', 'y')"
      ]
     },
     "execution_count": 214,
     "metadata": {},
     "output_type": "execute_result"
    }
   ],
   "source": [
    "len(a)\n",
    "all(a)\n",
    "any(a)\n",
    "enumerate(a)\n",
    "max(a)\n",
    "min(a)\n",
    "sorted(a)\n",
    "tuple(a)"
   ]
  },
  {
   "cell_type": "code",
   "execution_count": 227,
   "metadata": {},
   "outputs": [
    {
     "name": "stdout",
     "output_type": "stream",
     "text": [
      "('Line 1 - Value of num1 : ', '4')\n",
      "('Line 2 - Value of num2 : ', '5')\n"
     ]
    }
   ],
   "source": [
    "num1 = 4\n",
    "num2 = 5\n",
    "print((\"Line 1 - Value of num1 : \" ,format(num1)))\n",
    "print((\"Line 2 - Value of num2 : \", format((num2))))"
   ]
  },
  {
   "cell_type": "code",
   "execution_count": 241,
   "metadata": {},
   "outputs": [
    {
     "name": "stdout",
     "output_type": "stream",
     "text": [
      "91\n",
      "84\n",
      "Line 1 - Result of + is  91\n",
      "Line 1 - Result of + is 84\n"
     ]
    }
   ],
   "source": [
    "## compound operator \n",
    "num1 = 7\n",
    "num2 = 77\n",
    "res = num1 + num2\n",
    "res += num1\n",
    "print(res)\n",
    "res1 = ++ num1 + num2\n",
    "print(res1)\n",
    "print(\"Line 1 - Result of + is \", res)\n",
    "print(\"Line 1 - Result of + is\", res1)"
   ]
  },
  {
   "cell_type": "code",
   "execution_count": 249,
   "metadata": {},
   "outputs": [
    {
     "name": "stdout",
     "output_type": "stream",
     "text": [
      "a and b is False\n",
      "a or b is True\n",
      "not a is False\n",
      "not a is True\n",
      "None None None None\n"
     ]
    }
   ],
   "source": [
    "## logical operator \n",
    "a = True\n",
    "b = False\n",
    "print(print('a and b is', a and b ),print('a or b is', a or b ),print('not a is', not a),print('not a is', not b))"
   ]
  },
  {
   "cell_type": "code",
   "execution_count": 263,
   "metadata": {},
   "outputs": [
    {
     "name": "stdout",
     "output_type": "stream",
     "text": [
      "16\n",
      "x value in list 4\n",
      "y value in list 8\n"
     ]
    }
   ],
   "source": [
    "x = 4\n",
    "y = 8\n",
    "list = [1,2,3,4,5,6,7,8,9,0]\n",
    "z = x + y\n",
    "z += x\n",
    "print(z)\n",
    "if ( x in list):\n",
    "    print('x value in list',format(x))\n",
    "else:\n",
    "        print('x value is not there in list',format(x))\n",
    "if (y in list):\n",
    "    print('y value in list',format(y))\n",
    "else:\n",
    "        print('y value is not there in list',format(y))\n",
    "        "
   ]
  },
  {
   "cell_type": "code",
   "execution_count": 6,
   "metadata": {
    "collapsed": true
   },
   "outputs": [],
   "source": [
    "a = 10\n",
    "b = 7\n",
    "c = 100\n",
    "d = c\n",
    "def function1():\n",
    "    print('a values',a)\n",
    "    print('b values', b)\n",
    "    z = d*c\n",
    "    return z\n",
    "    "
   ]
  },
  {
   "cell_type": "code",
   "execution_count": 7,
   "metadata": {},
   "outputs": [
    {
     "name": "stdout",
     "output_type": "stream",
     "text": [
      "a values 10\n",
      "b values 7\n"
     ]
    },
    {
     "data": {
      "text/plain": [
       "10000"
      ]
     },
     "execution_count": 7,
     "metadata": {},
     "output_type": "execute_result"
    }
   ],
   "source": [
    "function1()"
   ]
  },
  {
   "cell_type": "code",
   "execution_count": 15,
   "metadata": {},
   "outputs": [
    {
     "name": "stdout",
     "output_type": "stream",
     "text": [
      "x value 7\n",
      "y vaue 8\n",
      "16\n",
      "value of x= 4\n",
      "vlaue of y =  2\n",
      "8\n",
      "12\n"
     ]
    }
   ],
   "source": [
    "def func():\n",
    "    print('x value', 7)\n",
    "    print('y vaue', 8)\n",
    "    \n",
    "func()\n",
    "def square(x):\n",
    "    return x*x\n",
    "print(square(4))\n",
    "def mul(x,y =0):\n",
    "    print(\"value of x=\",x)\n",
    "    print(\"vlaue of y = \",y)\n",
    "    return x*y\n",
    "print(mul(y = 2, x = 4))\n",
    "def addition(x, y):\n",
    "    return x+y\n",
    "print(addition(x =2, y =10))"
   ]
  },
  {
   "cell_type": "code",
   "execution_count": 30,
   "metadata": {},
   "outputs": [
    {
     "name": "stdout",
     "output_type": "stream",
     "text": [
      "x is biggerr value\n"
     ]
    }
   ],
   "source": [
    "## if statement\n",
    "def main():\n",
    "    x, y = 9, 7\n",
    "    if x> y :\n",
    "        print(\"x is biggerr value\")\n",
    "    else:\n",
    "            print(\"y is smaller value\")\n",
    "if __name__ == \"__main__\":\n",
    "    main()"
   ]
  },
  {
   "cell_type": "code",
   "execution_count": 50,
   "metadata": {},
   "outputs": [
    {
     "name": "stdout",
     "output_type": "stream",
     "text": [
      "x is equal to y\n"
     ]
    }
   ],
   "source": [
    "def main():\n",
    "    x, y = 8,8\n",
    "    \n",
    "    if x < y :\n",
    "        st = \"x is less then y\"\n",
    "    elif x == y:\n",
    "        st = \"x is equal to y\"\n",
    "    elif x > y:\n",
    "        st = \"x is bigger then  y\"\n",
    "    print(st)\n",
    "if __name__ == \"__main__\":\n",
    "    main()"
   ]
  },
  {
   "cell_type": "code",
   "execution_count": 79,
   "metadata": {},
   "outputs": [
    {
     "name": "stdout",
     "output_type": "stream",
     "text": [
      "0\n",
      "1\n",
      "2\n",
      "3\n",
      "4\n"
     ]
    }
   ],
   "source": [
    "def main():\n",
    "    x = 0\n",
    "    while (x <=4):\n",
    "        print(x)\n",
    "        x = x +1\n",
    "        \n",
    "if __name__ == \"__main__\":\n",
    "    main()"
   ]
  },
  {
   "cell_type": "code",
   "execution_count": 8,
   "metadata": {},
   "outputs": [
    {
     "name": "stdout",
     "output_type": "stream",
     "text": [
      "7\n",
      "8\n",
      "9\n",
      "10\n",
      "11\n",
      "12\n",
      "13\n",
      "14\n"
     ]
    }
   ],
   "source": [
    "def main():\n",
    "    x = 7\n",
    "    while x< 15:\n",
    "        print(x)\n",
    "        x = x + 1\n",
    "        \n",
    "if __name__ == \"__main__\":\n",
    "    main()\n",
    "    "
   ]
  },
  {
   "cell_type": "code",
   "execution_count": 9,
   "metadata": {},
   "outputs": [
    {
     "name": "stdout",
     "output_type": "stream",
     "text": [
      "7\n",
      "7\n",
      "8\n",
      "9\n",
      "10\n",
      "11\n",
      "12\n",
      "13\n",
      "14\n"
     ]
    }
   ],
   "source": [
    "for x in range(7,15):\n",
    "    print(x)\n",
    "    break\n",
    "if __name__ == \"__main__\":\n",
    "    main()"
   ]
  },
  {
   "cell_type": "code",
   "execution_count": 5,
   "metadata": {},
   "outputs": [
    {
     "name": "stdout",
     "output_type": "stream",
     "text": [
      "jan\n",
      "feb\n",
      "march\n",
      "apirl\n",
      "may\n",
      "june\n",
      "july\n",
      "august\n",
      "sep\n",
      "oct\n",
      "nov\n",
      "dec\n"
     ]
    }
   ],
   "source": [
    "## for loop using for strings\n",
    "def main():\n",
    "    months = [\"jan\",\"feb\",\"march\",\"apirl\",\"may\",\"june\",\"july\",\"august\",\"sep\", \"oct\", \"nov\",\"dec\"]\n",
    "    for m in months:\n",
    "        print(m)\n",
    "        \n",
    "if __name__ == \"__main__\":\n",
    "    main()"
   ]
  },
  {
   "cell_type": "code",
   "execution_count": 17,
   "metadata": {},
   "outputs": [
    {
     "name": "stdout",
     "output_type": "stream",
     "text": [
      "7\n",
      "8\n",
      "9\n",
      "10\n",
      "11\n",
      "12\n",
      "13\n",
      "14\n"
     ]
    }
   ],
   "source": [
    "for x in range(10, 20):\n",
    "    if x == 15: break\n",
    "    #if x % 3 == 0: continue\n",
    "\n",
    "if __name__ == \"__main__\":\n",
    "    main()"
   ]
  },
  {
   "cell_type": "code",
   "execution_count": 31,
   "metadata": {},
   "outputs": [
    {
     "name": "stdout",
     "output_type": "stream",
     "text": [
      "10\n",
      "15\n",
      "20\n",
      "25\n"
     ]
    }
   ],
   "source": [
    "for y in range(10, 30):\n",
    "    if y % 5 == 0 : \n",
    "        print(y)    \n",
    "    continue\n",
    "    \n",
    "if __name__ == \"__main1__\":\n",
    "    main1()"
   ]
  },
  {
   "cell_type": "code",
   "execution_count": 37,
   "metadata": {},
   "outputs": [
    {
     "name": "stdout",
     "output_type": "stream",
     "text": [
      "0 jan\n",
      "1 feb\n",
      "2 march\n",
      "3 aprl\n",
      "4 may\n",
      "5 june\n",
      "6 july\n",
      "7 august\n",
      "8 sep\n",
      "9 oct\n",
      "10 nov\n",
      "11 dec\n"
     ]
    }
   ],
   "source": [
    "def main():\n",
    "    months = [\"jan\",\"feb\",\"march\",\"aprl\",\"may\",\"june\",\"july\",\"august\",\"sep\", \"oct\", \"nov\",\"dec\"]\n",
    "    for i,m in enumerate(months):\n",
    "        print(i,m)\n",
    "        \n",
    "if __name__ == \"__main__\":\n",
    "    main()"
   ]
  },
  {
   "cell_type": "code",
   "execution_count": 38,
   "metadata": {},
   "outputs": [
    {
     "name": "stdout",
     "output_type": "stream",
     "text": [
      "0\n",
      "1\n",
      "2\n",
      "3\n"
     ]
    }
   ],
   "source": [
    "## while loop code \n",
    "def main():\n",
    "    x = 0\n",
    "    while (x < 4):\n",
    "        print(x)\n",
    "        x = x+1\n",
    "        \n",
    "if __name__ == \"__main__\":\n",
    "    main()"
   ]
  },
  {
   "cell_type": "code",
   "execution_count": 45,
   "metadata": {},
   "outputs": [
    {
     "name": "stdout",
     "output_type": "stream",
     "text": [
      "2\n",
      "3\n",
      "4\n",
      "5\n",
      "6\n",
      "7\n",
      "8\n",
      "9\n"
     ]
    }
   ],
   "source": [
    "## for loop\n",
    "def main():\n",
    "    x = 0\n",
    "    for i in range(2, 10):\n",
    "        print(i)\n",
    "        x = x +1\n",
    "        \n",
    "if __name__ == \"__main__\":\n",
    "    main()"
   ]
  },
  {
   "cell_type": "code",
   "execution_count": 70,
   "metadata": {},
   "outputs": [
    {
     "name": "stdout",
     "output_type": "stream",
     "text": [
      "facebook\n",
      "Apple\n",
      "Microsoft\n",
      "IBM\n"
     ]
    }
   ],
   "source": [
    "def main():\n",
    "    list = [\"IBM\", \"Microsoft\", \"Apple\", \"facebook\"] [::-1]\n",
    "    for l in list:\n",
    "        print(l)\n",
    "        \n",
    "if __name__ == \"__main__\":\n",
    "    main()\n",
    "    "
   ]
  },
  {
   "cell_type": "code",
   "execution_count": 75,
   "metadata": {},
   "outputs": [],
   "source": [
    "## the above list i need to convert the numeric index\n",
    " "
   ]
  },
  {
   "cell_type": "code",
   "execution_count": 60,
   "metadata": {},
   "outputs": [
    {
     "name": "stdout",
     "output_type": "stream",
     "text": [
      "10\n",
      "11\n",
      "12\n",
      "13\n",
      "14\n"
     ]
    }
   ],
   "source": [
    "## using the break- statement  for loop\n",
    "def function():\n",
    "    for x in range(10,20):\n",
    "        if x == 15: break\n",
    "        print(x)\n",
    "        \n",
    "if __name__ == \"__main__\":\n",
    "    function()"
   ]
  },
  {
   "cell_type": "code",
   "execution_count": 66,
   "metadata": {},
   "outputs": [
    {
     "name": "stdout",
     "output_type": "stream",
     "text": [
      "11\n",
      "12\n",
      "13\n",
      "14\n",
      "16\n",
      "17\n",
      "18\n",
      "19\n",
      "21\n",
      "22\n",
      "23\n",
      "24\n",
      "26\n",
      "27\n",
      "28\n",
      "29\n"
     ]
    }
   ],
   "source": [
    "## use the continue ststement for loop \n",
    "def function1():\n",
    "    for x in range(10,30):\n",
    "        if x % 5 == 0 : continue\n",
    "        print(x)\n",
    "if __name__ == \"__main__\":\n",
    "    function1()"
   ]
  },
  {
   "cell_type": "code",
   "execution_count": 80,
   "metadata": {},
   "outputs": [
    {
     "name": "stdout",
     "output_type": "stream",
     "text": [
      "guru99 1\n",
      "guru99 2\n",
      "guru99 3\n"
     ]
    }
   ],
   "source": [
    "## repate the the statement again \n",
    "for i in '123':\n",
    "    print(\"guru99\",i)"
   ]
  },
  {
   "cell_type": "code",
   "execution_count": 81,
   "metadata": {},
   "outputs": [
    {
     "name": "stdout",
     "output_type": "stream",
     "text": [
      "Guru99\n",
      "Software Testing: Testing is fun\n"
     ]
    }
   ],
   "source": [
    "class myClass():\n",
    "  def method1(self):\n",
    "      print(\"Guru99\")\n",
    "        \n",
    "  def method2(self,someString):    \n",
    "      print(\"Software Testing:\" + someString)\n",
    "  \n",
    "      \n",
    "def main():           \n",
    "  # exercise the class methods\n",
    "  c = myClass ()\n",
    "  c.method1()\n",
    "  c.method2(\" Testing is fun\")\n",
    "  \n",
    "if __name__== \"__main__\":\n",
    "  main()"
   ]
  },
  {
   "cell_type": "code",
   "execution_count": null,
   "metadata": {
    "collapsed": true
   },
   "outputs": [],
   "source": []
  }
 ],
 "metadata": {
  "kernelspec": {
   "display_name": "Python 3",
   "language": "python",
   "name": "python3"
  },
  "language_info": {
   "codemirror_mode": {
    "name": "ipython",
    "version": 3
   },
   "file_extension": ".py",
   "mimetype": "text/x-python",
   "name": "python",
   "nbconvert_exporter": "python",
   "pygments_lexer": "ipython3",
   "version": "3.6.1"
  }
 },
 "nbformat": 4,
 "nbformat_minor": 2
}
